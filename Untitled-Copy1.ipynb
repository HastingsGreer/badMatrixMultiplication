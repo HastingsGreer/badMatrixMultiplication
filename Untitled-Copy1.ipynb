{
 "cells": [
  {
   "cell_type": "code",
   "execution_count": 881,
   "metadata": {},
   "outputs": [],
   "source": [
    "I = np.identity(2)\n",
    "from numpy.linalg import det\n",
    "\n",
    "def bmatrix(a):\n",
    "    \"\"\"Returns a LaTeX bmatrix\n",
    "\n",
    "    :a: numpy array\n",
    "    :returns: LaTeX bmatrix as a string\n",
    "    \"\"\"\n",
    "    if len(a.shape) > 2:\n",
    "        raise ValueError('bmatrix can at most display two dimensions')\n",
    "    lines = str(a).replace('[', '').replace(']', '').splitlines()\n",
    "    rv = [r'\\begin{bmatrix}']\n",
    "    rv += ['  ' + ' & '.join(l.split()) + r'\\\\' for l in lines]\n",
    "    rv +=  [r'\\end{bmatrix}']\n",
    "    return '\\n'.join(rv)\n",
    "\n"
   ]
  },
  {
   "cell_type": "code",
   "execution_count": 70,
   "metadata": {},
   "outputs": [
    {
     "data": {
      "text/latex": [
       "$$\\begin{bmatrix}\n",
       "  1 & 1 & 2 & 1\\\\\n",
       "  2 & 1 & 2 & 1\\\\\n",
       "  2 & 1 & 1 & 1\\\\\n",
       "  2 & 1 & 2 & 0\\\\\n",
       "\\end{bmatrix}\n",
       "\\begin{bmatrix}\n",
       "  7 & 2 & 2 & 1\\\\\n",
       "  4 & 4 & 4 & 2\\\\\n",
       "  2 & 2 & 7 & 1\\\\\n",
       "  2 & 2 & 2 & 6\\\\\n",
       "\\end{bmatrix} =\n",
       "\\begin{bmatrix}\n",
       "  17 & 12 & 22 & 11\\\\\n",
       "  24 & 14 & 24 & 12\\\\\n",
       "  22 & 12 & 17 & 11\\\\\n",
       "  22 & 12 & 22 & 6\\\\\n",
       "\\end{bmatrix}$$\n"
      ],
      "text/plain": [
       "<IPython.core.display.Latex object>"
      ]
     },
     "metadata": {},
     "output_type": "display_data"
    }
   ],
   "source": [
    "%%latex\n",
    "$$\\begin{bmatrix}\n",
    "  1 & 1 & 2 & 1\\\\\n",
    "  2 & 1 & 2 & 1\\\\\n",
    "  2 & 1 & 1 & 1\\\\\n",
    "  2 & 1 & 2 & 0\\\\\n",
    "\\end{bmatrix}\n",
    "\\begin{bmatrix}\n",
    "  7 & 2 & 2 & 1\\\\\n",
    "  4 & 4 & 4 & 2\\\\\n",
    "  2 & 2 & 7 & 1\\\\\n",
    "  2 & 2 & 2 & 6\\\\\n",
    "\\end{bmatrix} =\n",
    "\\begin{bmatrix}\n",
    "  17 & 12 & 22 & 11\\\\\n",
    "  24 & 14 & 24 & 12\\\\\n",
    "  22 & 12 & 17 & 11\\\\\n",
    "  22 & 12 & 22 & 6\\\\\n",
    "\\end{bmatrix}$$"
   ]
  },
  {
   "cell_type": "code",
   "execution_count": 349,
   "metadata": {},
   "outputs": [
    {
     "name": "stdout",
     "output_type": "stream",
     "text": [
      "[[2 1 3]\n",
      " [3 1 1]\n",
      " [2 1 1]]\n",
      "[[9. 3. 1.]\n",
      " [2. 4. 8.]\n",
      " [3. 1. 7.]]\n",
      "[[29. 13. 31.]\n",
      " [32. 14. 18.]\n",
      " [23. 11. 17.]]\n",
      "2.0000000000000004\n",
      "10.000000000000002\n",
      "200.0000000000001\n"
     ]
    }
   ],
   "source": [
    "import numpy as np\n",
    "N = 3\n",
    "def BfromA(A):\n",
    "    return 10 * (np.identity(A.shape[0]) - A**-1)**-1\n",
    "def valid(A):\n",
    "    if np.linalg.matrix_rank(A) != A.shape[0]:\n",
    "        return False\n",
    "    try:\n",
    "        B = BfromA(A)\n",
    "    except np.linalg.LinAlgError:\n",
    "        return False\n",
    "    if not np.all(np.isclose(np.round(B) ,B)) or not np.all(B > .5) or not np.all(B < 9.5):\n",
    "        return False\n",
    "    return True\n",
    "while True:\n",
    "    A = np.matrix(1 + np.random.randint(np.zeros((N, N)) + 4))\n",
    "    if valid(A):\n",
    "        print(A)\n",
    "        print(BfromA(A))\n",
    "        print(A * BfromA(A))\n",
    "        print(np.linalg.det(A))\n",
    "        print(np.linalg.det(A - np.identity(N)))\n",
    "        print(np.linalg.det(BfromA(A)))\n",
    "        break"
   ]
  },
  {
   "cell_type": "code",
   "execution_count": 538,
   "metadata": {},
   "outputs": [],
   "source": [
    "N = 5\n",
    "det1s = []\n",
    "det2s = []\n",
    "det5s = []\n",
    "detXs = []\n",
    "import random\n",
    "for _ in range(100000):\n",
    "    A = np.matrix(1 + np.random.randint(np.zeros((N, N)) + 3)) - I\n",
    "    val = np.linalg.det(A)\n",
    "    if np.isclose(val, -2):\n",
    "        det2s.append(A)\n",
    "    if np.isclose(val, 5):\n",
    "        det5s.append(A)\n",
    "    if np.isclose(val, 1):\n",
    "        det1s.append(A)\n",
    "    if np.isclose(np.abs(val), 10):\n",
    "        detXs.append(A)\n",
    "def randomMatrix():\n",
    "    return random.choice(det2s) * random.choice(det5s)"
   ]
  },
  {
   "cell_type": "code",
   "execution_count": null,
   "metadata": {},
   "outputs": [],
   "source": []
  },
  {
   "cell_type": "code",
   "execution_count": null,
   "metadata": {},
   "outputs": [],
   "source": []
  },
  {
   "cell_type": "code",
   "execution_count": null,
   "metadata": {},
   "outputs": [],
   "source": []
  },
  {
   "cell_type": "code",
   "execution_count": null,
   "metadata": {},
   "outputs": [],
   "source": [
    "want E:\n",
    "E+I >= 0\n",
    "det(E) = 10\n",
    "E^-1 + I >= 0\n",
    "det(E + I) = 1"
   ]
  },
  {
   "cell_type": "code",
   "execution_count": 479,
   "metadata": {},
   "outputs": [],
   "source": [
    "E = random.choice(detXs)"
   ]
  },
  {
   "cell_type": "code",
   "execution_count": 473,
   "metadata": {},
   "outputs": [
    {
     "data": {
      "text/plain": [
       "matrix([[2, 3, 2, 0],\n",
       "        [2, 2, 1, 1],\n",
       "        [3, 0, 1, 2],\n",
       "        [2, 1, 2, 2]])"
      ]
     },
     "execution_count": 473,
     "metadata": {},
     "output_type": "execute_result"
    }
   ],
   "source": [
    "E"
   ]
  },
  {
   "cell_type": "code",
   "execution_count": null,
   "metadata": {},
   "outputs": [],
   "source": []
  },
  {
   "cell_type": "code",
   "execution_count": 480,
   "metadata": {},
   "outputs": [
    {
     "data": {
      "text/plain": [
       "-2.999999999999998"
      ]
     },
     "execution_count": 480,
     "metadata": {},
     "output_type": "execute_result"
    }
   ],
   "source": [
    "det(E + I)"
   ]
  },
  {
   "cell_type": "code",
   "execution_count": 481,
   "metadata": {},
   "outputs": [
    {
     "data": {
      "text/plain": [
       "matrix([[ 0.6, -0.8,  0.4, -0.2],\n",
       "        [-0.6,  0.8,  0.1,  0.2],\n",
       "        [ 1.2, -0.6, -0.7, -0.4],\n",
       "        [-0.8,  0.4,  0.3,  0.6]])"
      ]
     },
     "execution_count": 481,
     "metadata": {},
     "output_type": "execute_result"
    }
   ],
   "source": [
    "E**-1"
   ]
  },
  {
   "cell_type": "code",
   "execution_count": 520,
   "metadata": {},
   "outputs": [],
   "source": [
    "A = E + I\n",
    "B = 10 * (E**-1 + I)"
   ]
  },
  {
   "cell_type": "code",
   "execution_count": 521,
   "metadata": {},
   "outputs": [
    {
     "name": "stdout",
     "output_type": "stream",
     "text": [
      "[[1. 1. 1. 1.]\n",
      " [1. 1. 0. 1.]\n",
      " [2. 2. 1. 2.]\n",
      " [2. 3. 3. 1.]]\n",
      "[[4. 6. 0. 2.]\n",
      " [0. 0. 5. 0.]\n",
      " [4. 6. 5. 2.]\n",
      " [6. 4. 0. 8.]]\n",
      "[[14. 16. 10. 12.]\n",
      " [10. 10.  5. 10.]\n",
      " [24. 26. 15. 22.]\n",
      " [26. 34. 30. 18.]]\n"
     ]
    }
   ],
   "source": [
    "print(A)\n",
    "print(B)\n",
    "print(A * B)"
   ]
  },
  {
   "cell_type": "code",
   "execution_count": 427,
   "metadata": {},
   "outputs": [],
   "source": [
    "S = np.matrix(np.identity(4))"
   ]
  },
  {
   "cell_type": "code",
   "execution_count": 507,
   "metadata": {},
   "outputs": [],
   "source": [
    "S[0, 0] = .5"
   ]
  },
  {
   "cell_type": "code",
   "execution_count": 430,
   "metadata": {},
   "outputs": [
    {
     "data": {
      "text/plain": [
       "matrix([[ 1., -1.,  0.,  0.],\n",
       "        [ 0.,  1.,  0.,  0.],\n",
       "        [ 0.,  0.,  1.,  0.],\n",
       "        [ 0.,  0.,  0.,  1.]])"
      ]
     },
     "execution_count": 430,
     "metadata": {},
     "output_type": "execute_result"
    }
   ],
   "source": [
    "S**-1"
   ]
  },
  {
   "cell_type": "code",
   "execution_count": 545,
   "metadata": {},
   "outputs": [],
   "source": [
    "detXs = sorted(detXs, key = lambda e: np.sum(e**-1 >= -.01))"
   ]
  },
  {
   "cell_type": "code",
   "execution_count": 546,
   "metadata": {},
   "outputs": [
    {
     "data": {
      "text/plain": [
       "array([[-1. ,  0. ,  2. ,  0. ,  0. ],\n",
       "       [ 0. , -0.4,  0.6,  0.2,  0.1],\n",
       "       [ 1. ,  0.6, -3.4,  0.2,  0.1],\n",
       "       [ 0. , -0.2,  0.8, -0.4,  0.3],\n",
       "       [ 0. ,  0. ,  1. ,  0. , -0.5]])"
      ]
     },
     "execution_count": 546,
     "metadata": {},
     "output_type": "execute_result"
    }
   ],
   "source": [
    "np.round(detXs[-1]**-1 + .0001, 3)"
   ]
  },
  {
   "cell_type": "code",
   "execution_count": 517,
   "metadata": {},
   "outputs": [
    {
     "data": {
      "text/plain": [
       "matrix([[0, 1, 1, 1],\n",
       "        [1, 0, 0, 1],\n",
       "        [2, 2, 0, 2],\n",
       "        [2, 3, 3, 0]])"
      ]
     },
     "execution_count": 517,
     "metadata": {},
     "output_type": "execute_result"
    }
   ],
   "source": [
    "E =  detXs[-3][[3, 1, 0, 2]]\n",
    "E"
   ]
  },
  {
   "cell_type": "code",
   "execution_count": 518,
   "metadata": {},
   "outputs": [
    {
     "data": {
      "text/plain": [
       "matrix([[-0.6,  0.6,  0. ,  0.2],\n",
       "        [-0. , -1. ,  0.5, -0. ],\n",
       "        [ 0.4,  0.6, -0.5,  0.2],\n",
       "        [ 0.6,  0.4,  0. , -0.2]])"
      ]
     },
     "execution_count": 518,
     "metadata": {},
     "output_type": "execute_result"
    }
   ],
   "source": [
    "E**-1"
   ]
  },
  {
   "cell_type": "code",
   "execution_count": 519,
   "metadata": {},
   "outputs": [
    {
     "data": {
      "text/plain": [
       "0.0"
      ]
     },
     "execution_count": 519,
     "metadata": {},
     "output_type": "execute_result"
    }
   ],
   "source": [
    "det(E + I)"
   ]
  },
  {
   "cell_type": "code",
   "execution_count": 539,
   "metadata": {},
   "outputs": [
    {
     "data": {
      "text/plain": [
       "2964"
      ]
     },
     "execution_count": 539,
     "metadata": {},
     "output_type": "execute_result"
    }
   ],
   "source": [
    "len(detXs)"
   ]
  },
  {
   "cell_type": "code",
   "execution_count": 667,
   "metadata": {},
   "outputs": [
    {
     "data": {
      "text/plain": [
       "matrix([[1., 2., 2., 3., 3.],\n",
       "        [2., 2., 3., 1., 2.],\n",
       "        [2., 2., 0., 2., 2.],\n",
       "        [1., 1., 2., 2., 2.],\n",
       "        [2., 2., 3., 1., 1.]])"
      ]
     },
     "execution_count": 667,
     "metadata": {},
     "output_type": "execute_result"
    }
   ],
   "source": [
    "detXs[-3]"
   ]
  },
  {
   "cell_type": "code",
   "execution_count": 896,
   "metadata": {},
   "outputs": [
    {
     "data": {
      "text/plain": [
       "matrix([[8., 9.],\n",
       "        [5., 6.]])"
      ]
     },
     "execution_count": 896,
     "metadata": {},
     "output_type": "execute_result"
    }
   ],
   "source": [
    "Ei = np.matrix(.1 * (3 + np.random.randint(np.zeros((2, 2)) + 7)))\n",
    "Ei = Ei - I\n",
    "B = Ei**-1 + I"
   ]
  },
  {
   "cell_type": "code",
   "execution_count": 912,
   "metadata": {},
   "outputs": [],
   "source": [
    "B = 10 * (Ei + I)\n",
    "A = Ei **-1 + I"
   ]
  },
  {
   "cell_type": "code",
   "execution_count": 913,
   "metadata": {},
   "outputs": [
    {
     "data": {
      "text/plain": [
       "matrix([[8., 9.],\n",
       "        [5., 6.]])"
      ]
     },
     "execution_count": 913,
     "metadata": {},
     "output_type": "execute_result"
    }
   ],
   "source": [
    "A"
   ]
  },
  {
   "cell_type": "code",
   "execution_count": 914,
   "metadata": {},
   "outputs": [
    {
     "data": {
      "text/plain": [
       "matrix([[5., 9.],\n",
       "        [5., 3.]])"
      ]
     },
     "execution_count": 914,
     "metadata": {},
     "output_type": "execute_result"
    }
   ],
   "source": [
    "B"
   ]
  },
  {
   "cell_type": "code",
   "execution_count": 915,
   "metadata": {},
   "outputs": [
    {
     "data": {
      "text/plain": [
       "matrix([[85., 99.],\n",
       "        [55., 63.]])"
      ]
     },
     "execution_count": 915,
     "metadata": {},
     "output_type": "execute_result"
    }
   ],
   "source": [
    "A * B"
   ]
  },
  {
   "cell_type": "code",
   "execution_count": 910,
   "metadata": {},
   "outputs": [
    {
     "data": {
      "text/plain": [
       "matrix([[-0.5,  0.9],\n",
       "        [ 0.5, -0.7]])"
      ]
     },
     "execution_count": 910,
     "metadata": {},
     "output_type": "execute_result"
    }
   ],
   "source": [
    "Ei"
   ]
  },
  {
   "cell_type": "code",
   "execution_count": 916,
   "metadata": {},
   "outputs": [],
   "source": [
    "E = Ei**-1"
   ]
  },
  {
   "cell_type": "code",
   "execution_count": 919,
   "metadata": {},
   "outputs": [
    {
     "data": {
      "text/plain": [
       "2.9999999999999982"
      ]
     },
     "execution_count": 919,
     "metadata": {},
     "output_type": "execute_result"
    }
   ],
   "source": [
    "det(E + I)"
   ]
  },
  {
   "cell_type": "code",
   "execution_count": 940,
   "metadata": {},
   "outputs": [],
   "source": [
    "L, Q = np.linalg.eig(E)"
   ]
  },
  {
   "cell_type": "code",
   "execution_count": 953,
   "metadata": {},
   "outputs": [
    {
     "data": {
      "text/plain": [
       "matrix([[7., 9.],\n",
       "        [5., 5.]])"
      ]
     },
     "execution_count": 953,
     "metadata": {},
     "output_type": "execute_result"
    }
   ],
   "source": [
    "Q * np.diag(L) * Q**-1"
   ]
  },
  {
   "cell_type": "code",
   "execution_count": 947,
   "metadata": {},
   "outputs": [
    {
     "data": {
      "text/plain": [
       "matrix([[7., 9.],\n",
       "        [5., 5.]])"
      ]
     },
     "execution_count": 947,
     "metadata": {},
     "output_type": "execute_result"
    }
   ],
   "source": []
  },
  {
   "cell_type": "code",
   "execution_count": 939,
   "metadata": {},
   "outputs": [
    {
     "data": {
      "text/plain": [
       "matrix([[ 1.00000000e+00, -1.62160689e-16],\n",
       "        [ 4.47799553e-17,  1.00000000e+00]])"
      ]
     },
     "execution_count": 939,
     "metadata": {},
     "output_type": "execute_result"
    }
   ],
   "source": [
    "Q**-1 * Q"
   ]
  },
  {
   "cell_type": "code",
   "execution_count": 946,
   "metadata": {},
   "outputs": [
    {
     "data": {
      "text/plain": [
       "matrix([[12.78232998,  0.        ],\n",
       "        [ 0.        , -0.78232998]])"
      ]
     },
     "execution_count": 946,
     "metadata": {},
     "output_type": "execute_result"
    }
   ],
   "source": [
    "np.matrix(np.diag(L))"
   ]
  },
  {
   "cell_type": "code",
   "execution_count": null,
   "metadata": {},
   "outputs": [],
   "source": []
  }
 ],
 "metadata": {
  "kernelspec": {
   "display_name": "Python 3",
   "language": "python",
   "name": "python3"
  },
  "language_info": {
   "codemirror_mode": {
    "name": "ipython",
    "version": 3
   },
   "file_extension": ".py",
   "mimetype": "text/x-python",
   "name": "python",
   "nbconvert_exporter": "python",
   "pygments_lexer": "ipython3",
   "version": "3.7.8"
  }
 },
 "nbformat": 4,
 "nbformat_minor": 4
}
