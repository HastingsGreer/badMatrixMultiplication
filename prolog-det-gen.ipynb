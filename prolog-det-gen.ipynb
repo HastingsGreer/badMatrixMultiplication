{
 "cells": [
  {
   "cell_type": "code",
   "execution_count": 31,
   "metadata": {},
   "outputs": [
    {
     "data": {
      "text/plain": [
       "[ E_0  E_1  E_2  E_3]\n",
       "[ E_4  E_5  E_6  E_7]\n",
       "[ E_8  E_9 E_10 E_11]\n",
       "[E_12 E_13 E_14 E_15]"
      ]
     },
     "execution_count": 31,
     "metadata": {},
     "output_type": "execute_result"
    }
   ],
   "source": [
    "N = 4\n",
    "E_ = var('E_', n=N^2, latex_name='E_')\n",
    "\n",
    "E = matrix(SR, N, N, E_)\n",
    "E"
   ]
  },
  {
   "cell_type": "code",
   "execution_count": 32,
   "metadata": {},
   "outputs": [
    {
     "data": {
      "text/plain": [
       "E_1*E_11*E_14*E_4 - E_1*E_10*E_15*E_4 - E_11*E_13*E_2*E_4 + E_10*E_13*E_3*E_4 - E_0*E_11*E_14*E_5 + E_0*E_10*E_15*E_5 + E_11*E_12*E_2*E_5 - E_10*E_12*E_3*E_5 - E_1*E_11*E_12*E_6 + E_0*E_11*E_13*E_6 + E_1*E_10*E_12*E_7 - E_0*E_10*E_13*E_7 - E_15*E_2*E_5*E_8 + E_14*E_3*E_5*E_8 + E_1*E_15*E_6*E_8 - E_13*E_3*E_6*E_8 - E_1*E_14*E_7*E_8 + E_13*E_2*E_7*E_8 + E_15*E_2*E_4*E_9 - E_14*E_3*E_4*E_9 - E_0*E_15*E_6*E_9 + E_12*E_3*E_6*E_9 + E_0*E_14*E_7*E_9 - E_12*E_2*E_7*E_9"
      ]
     },
     "execution_count": 32,
     "metadata": {},
     "output_type": "execute_result"
    }
   ],
   "source": [
    "det(E)"
   ]
  },
  {
   "cell_type": "code",
   "execution_count": 33,
   "metadata": {},
   "outputs": [
    {
     "data": {
      "text/plain": [
       "[[E_0, E_1, E_2, E_3],\n",
       " [E_4, E_5, E_6, E_7],\n",
       " [E_8, E_9, E_10, E_11],\n",
       " [E_12, E_13, E_14, E_15]]"
      ]
     },
     "execution_count": 33,
     "metadata": {},
     "output_type": "execute_result"
    }
   ],
   "source": [
    "list(map(list, E))"
   ]
  },
  {
   "cell_type": "code",
   "execution_count": 35,
   "metadata": {},
   "outputs": [
    {
     "data": {
      "text/plain": [
       "[[E_11*E_13*E_6 - E_10*E_13*E_7 - (E_11*E_14 - E_10*E_15)*E_5 - (E_15*E_6 - E_14*E_7)*E_9,\n",
       "  E_1*E_11*E_14 - E_1*E_10*E_15 - E_11*E_13*E_2 + E_10*E_13*E_3 + (E_15*E_2 - E_14*E_3)*E_9,\n",
       "  -(E_15*E_2 - E_14*E_3)*E_5 + (E_1*E_15 - E_13*E_3)*E_6 - (E_1*E_14 - E_13*E_2)*E_7,\n",
       "  -E_1*E_11*E_6 + E_1*E_10*E_7 + (E_11*E_2 - E_10*E_3)*E_5 + (E_3*E_6 - E_2*E_7)*E_9],\n",
       " [-E_11*E_12*E_6 + E_10*E_12*E_7 + (E_11*E_14 - E_10*E_15)*E_4 + (E_15*E_6 - E_14*E_7)*E_8,\n",
       "  -E_0*E_11*E_14 + E_0*E_10*E_15 + E_11*E_12*E_2 - E_10*E_12*E_3 - (E_15*E_2 - E_14*E_3)*E_8,\n",
       "  (E_15*E_2 - E_14*E_3)*E_4 - (E_0*E_15 - E_12*E_3)*E_6 + (E_0*E_14 - E_12*E_2)*E_7,\n",
       "  E_0*E_11*E_6 - E_0*E_10*E_7 - (E_11*E_2 - E_10*E_3)*E_4 - (E_3*E_6 - E_2*E_7)*E_8],\n",
       " [-E_11*E_13*E_4 + E_11*E_12*E_5 - (E_15*E_5 - E_13*E_7)*E_8 + (E_15*E_4 - E_12*E_7)*E_9,\n",
       "  -E_1*E_11*E_12 + E_0*E_11*E_13 + (E_1*E_15 - E_13*E_3)*E_8 - (E_0*E_15 - E_12*E_3)*E_9,\n",
       "  -(E_1*E_15 - E_13*E_3)*E_4 + (E_0*E_15 - E_12*E_3)*E_5 + (E_1*E_12 - E_0*E_13)*E_7,\n",
       "  E_1*E_11*E_4 - E_0*E_11*E_5 + (E_3*E_5 - E_1*E_7)*E_8 - (E_3*E_4 - E_0*E_7)*E_9],\n",
       " [E_10*E_13*E_4 - E_10*E_12*E_5 + (E_14*E_5 - E_13*E_6)*E_8 - (E_14*E_4 - E_12*E_6)*E_9,\n",
       "  E_1*E_10*E_12 - E_0*E_10*E_13 - (E_1*E_14 - E_13*E_2)*E_8 + (E_0*E_14 - E_12*E_2)*E_9,\n",
       "  (E_1*E_14 - E_13*E_2)*E_4 - (E_0*E_14 - E_12*E_2)*E_5 - (E_1*E_12 - E_0*E_13)*E_6,\n",
       "  -E_1*E_10*E_4 + E_0*E_10*E_5 - (E_2*E_5 - E_1*E_6)*E_8 + (E_2*E_4 - E_0*E_6)*E_9]]"
      ]
     },
     "execution_count": 35,
     "metadata": {},
     "output_type": "execute_result"
    }
   ],
   "source": [
    "list(map(list, ((E^-1) * det(E)).simplify_full()))"
   ]
  },
  {
   "cell_type": "code",
   "execution_count": null,
   "metadata": {},
   "outputs": [],
   "source": []
  }
 ],
 "metadata": {
  "kernelspec": {
   "display_name": "SageMath 9.1",
   "language": "sage",
   "name": "sagemath"
  },
  "language_info": {
   "codemirror_mode": {
    "name": "ipython",
    "version": 3
   },
   "file_extension": ".py",
   "mimetype": "text/x-python",
   "name": "python",
   "nbconvert_exporter": "python",
   "pygments_lexer": "ipython3",
   "version": "3.7.8"
  }
 },
 "nbformat": 4,
 "nbformat_minor": 2
}
