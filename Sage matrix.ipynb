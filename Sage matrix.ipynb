{
 "cells": [
  {
   "cell_type": "code",
   "execution_count": 164,
   "metadata": {},
   "outputs": [],
   "source": [
    "I = identity_matrix(3)"
   ]
  },
  {
   "cell_type": "code",
   "execution_count": 64,
   "metadata": {},
   "outputs": [
    {
     "data": {
      "text/plain": [
       "(a, b, c)"
      ]
     },
     "execution_count": 64,
     "metadata": {},
     "output_type": "execute_result"
    }
   ],
   "source": [
    "var(\"a b c\")"
   ]
  },
  {
   "cell_type": "code",
   "execution_count": 181,
   "metadata": {},
   "outputs": [],
   "source": [
    "A = matrix(SR, 3, 3, [[1, 2, 4],\n",
    "        [1, 1, 3],\n",
    "        [1, 1, 1]])"
   ]
  },
  {
   "cell_type": "code",
   "execution_count": 200,
   "metadata": {},
   "outputs": [],
   "source": [
    "A = matrix(SR, 3, 3, [[1, 2, 3],\n",
    "        [2, 1, 4],\n",
    "        [2, 2, 3]])"
   ]
  },
  {
   "cell_type": "code",
   "execution_count": 178,
   "metadata": {},
   "outputs": [],
   "source": [
    "A = matrix(SR, 3, 3, [[1, 3, 2],\n",
    "        [1, 1, 2],\n",
    "        [1, 2, 1]])"
   ]
  },
  {
   "cell_type": "code",
   "execution_count": 185,
   "metadata": {},
   "outputs": [],
   "source": [
    "A = matrix([[ 3,  1,  3],\n",
    "       [ 8,  3,  8],\n",
    "       [10,  4,  9]])"
   ]
  },
  {
   "cell_type": "code",
   "execution_count": 201,
   "metadata": {},
   "outputs": [
    {
     "data": {
      "text/plain": [
       "(5, 20)"
      ]
     },
     "execution_count": 201,
     "metadata": {},
     "output_type": "execute_result"
    }
   ],
   "source": [
    "det(A), det(A - I)"
   ]
  },
  {
   "cell_type": "code",
   "execution_count": 108,
   "metadata": {},
   "outputs": [],
   "source": [
    "def BfromA(x):\n",
    "    return 10 * (identity_matrix(3) - x^(-1))^-1"
   ]
  },
  {
   "cell_type": "code",
   "execution_count": 131,
   "metadata": {},
   "outputs": [],
   "source": [
    "B = BfromA(A)"
   ]
  },
  {
   "cell_type": "code",
   "execution_count": 132,
   "metadata": {},
   "outputs": [
    {
     "data": {
      "text/plain": [
       "(\n",
       "[1 2 4]  [7 4 6]  [17 24 46]\n",
       "[1 1 3]  [3 6 4]  [13 16 34]\n",
       "[1 1 1], [1 2 8], [11 12 18]\n",
       ")"
      ]
     },
     "execution_count": 132,
     "metadata": {},
     "output_type": "execute_result"
    }
   ],
   "source": [
    "A, B, A * B"
   ]
  },
  {
   "cell_type": "code",
   "execution_count": null,
   "metadata": {},
   "outputs": [],
   "source": []
  },
  {
   "cell_type": "code",
   "execution_count": 133,
   "metadata": {},
   "outputs": [],
   "source": [
    "LA, Q = A.eigenmatrix_right()"
   ]
  },
  {
   "cell_type": "code",
   "execution_count": 134,
   "metadata": {},
   "outputs": [],
   "source": [
    "LB, _ = B.eigenmatrix_right()"
   ]
  },
  {
   "cell_type": "code",
   "execution_count": 135,
   "metadata": {},
   "outputs": [
    {
     "data": {
      "text/plain": [
       "[7 4 6]\n",
       "[3 6 4]\n",
       "[1 2 8]"
      ]
     },
     "execution_count": 135,
     "metadata": {},
     "output_type": "execute_result"
    }
   ],
   "source": [
    "(Q * LB * Q^-1).simplify_full()"
   ]
  },
  {
   "cell_type": "code",
   "execution_count": 136,
   "metadata": {},
   "outputs": [],
   "source": [
    "LA2 = (Q * Q^-1 * LA^2).simplify_full()"
   ]
  },
  {
   "cell_type": "code",
   "execution_count": null,
   "metadata": {},
   "outputs": [],
   "source": []
  },
  {
   "cell_type": "code",
   "execution_count": null,
   "metadata": {},
   "outputs": [],
   "source": []
  },
  {
   "cell_type": "code",
   "execution_count": null,
   "metadata": {},
   "outputs": [],
   "source": []
  },
  {
   "cell_type": "code",
   "execution_count": null,
   "metadata": {},
   "outputs": [],
   "source": []
  },
  {
   "cell_type": "code",
   "execution_count": 137,
   "metadata": {},
   "outputs": [
    {
     "data": {
      "text/plain": [
       "[[a == 1, b == -2, c == 2]]"
      ]
     },
     "execution_count": 137,
     "metadata": {},
     "output_type": "execute_result"
    }
   ],
   "source": [
    "solve([(a * LA2 + b * LA + c * identity_matrix(3) - LB)[i, i] for i in range(3)], a, b, c)"
   ]
  },
  {
   "cell_type": "code",
   "execution_count": 138,
   "metadata": {},
   "outputs": [
    {
     "data": {
      "text/plain": [
       "[7*a + b + c - 7   8*a + 2*b - 4  14*a + 4*b - 6]\n",
       "[    5*a + b - 3 6*a + b + c - 6  10*a + 3*b - 4]\n",
       "[    3*a + b - 1     4*a + b - 2 8*a + b + c - 8]"
      ]
     },
     "execution_count": 138,
     "metadata": {},
     "output_type": "execute_result"
    }
   ],
   "source": [
    "(a * A^2 + b * A + c * identity_matrix(3) - B)"
   ]
  },
  {
   "cell_type": "code",
   "execution_count": 139,
   "metadata": {},
   "outputs": [
    {
     "data": {
      "text/plain": [
       "[17 24 46]\n",
       "[13 16 34]\n",
       "[11 12 18]"
      ]
     },
     "execution_count": 139,
     "metadata": {},
     "output_type": "execute_result"
    }
   ],
   "source": [
    "A * B"
   ]
  },
  {
   "cell_type": "code",
   "execution_count": 140,
   "metadata": {},
   "outputs": [
    {
     "data": {
      "text/plain": [
       "[17 24 46]\n",
       "[13 16 34]\n",
       "[11 12 18]"
      ]
     },
     "execution_count": 140,
     "metadata": {},
     "output_type": "execute_result"
    }
   ],
   "source": [
    "B * A"
   ]
  },
  {
   "cell_type": "code",
   "execution_count": 145,
   "metadata": {},
   "outputs": [
    {
     "data": {
      "text/plain": [
       "[7 4 6]\n",
       "[3 6 4]\n",
       "[1 2 8]"
      ]
     },
     "execution_count": 145,
     "metadata": {},
     "output_type": "execute_result"
    }
   ],
   "source": [
    "B"
   ]
  },
  {
   "cell_type": "code",
   "execution_count": 153,
   "metadata": {},
   "outputs": [
    {
     "data": {
      "text/plain": [
       "[7 4 6]\n",
       "[3 6 4]\n",
       "[1 2 8]"
      ]
     },
     "execution_count": 153,
     "metadata": {},
     "output_type": "execute_result"
    }
   ],
   "source": [
    "(Q * (10 * LA *( LA - 1)^-1) * Q^-1).simplify_full()"
   ]
  },
  {
   "cell_type": "code",
   "execution_count": 144,
   "metadata": {},
   "outputs": [
    {
     "data": {
      "text/plain": [
       "[1/3*a + 1/3*b + 1/3*c,\n",
       " -1/6*sqrt(6)*a + 1/6*sqrt(6)*b,\n",
       " 1/18*sqrt(6)*(b*(sqrt(6) + 3) + a*(sqrt(6) - 3) - 2*sqrt(6)*c),\n",
       " -1/6*a*(sqrt(6) + 1) + 1/6*b*(sqrt(6) - 1) + 1/3*c,\n",
       " 1/12*a*(sqrt(6) + 6) - 1/12*b*(sqrt(6) - 6),\n",
       " 1/36*sqrt(6)*(b*(2*sqrt(6) + 3) + a*(2*sqrt(6) - 3) - 4*sqrt(6)*c),\n",
       " 1/6*a + 1/6*b - 1/3*c,\n",
       " -1/12*sqrt(6)*a + 1/12*sqrt(6)*b,\n",
       " 1/36*sqrt(6)*(b*(sqrt(6) + 3) + a*(sqrt(6) - 3) + 4*sqrt(6)*c)]"
      ]
     },
     "execution_count": 144,
     "metadata": {},
     "output_type": "execute_result"
    }
   ],
   "source": [
    "(Q * diagonal_matrix([a, b, c]) * Q^-1).simplify_full().list()"
   ]
  },
  {
   "cell_type": "code",
   "execution_count": 188,
   "metadata": {},
   "outputs": [
    {
     "data": {
      "text/plain": [
       "[2 2 1]\n",
       "[8 3 4]\n",
       "[6 1 8]"
      ]
     },
     "execution_count": 188,
     "metadata": {},
     "output_type": "execute_result"
    }
   ],
   "source": [
    "10 *(I + (A - identity_matrix(3))^-1)"
   ]
  },
  {
   "cell_type": "code",
   "execution_count": 202,
   "metadata": {},
   "outputs": [],
   "source": [
    "E = A - I"
   ]
  },
  {
   "cell_type": "code",
   "execution_count": 196,
   "metadata": {},
   "outputs": [],
   "source": [
    "E = matrix(SR, 2, 2, [[7, 9],\n",
    "            [5, 5]])"
   ]
  },
  {
   "cell_type": "code",
   "execution_count": 203,
   "metadata": {},
   "outputs": [],
   "source": [
    "LE, Q = E.eigenmatrix_right()"
   ]
  },
  {
   "cell_type": "code",
   "execution_count": 204,
   "metadata": {},
   "outputs": [
    {
     "data": {
      "text/plain": [
       "[-sqrt(14) + 2             0             0]\n",
       "[            0  sqrt(14) + 2             0]\n",
       "[            0             0            -2]"
      ]
     },
     "execution_count": 204,
     "metadata": {},
     "output_type": "execute_result"
    }
   ],
   "source": [
    "LE"
   ]
  },
  {
   "cell_type": "code",
   "execution_count": 206,
   "metadata": {},
   "outputs": [
    {
     "data": {
      "text/plain": [
       "[                  1                   1                   1]\n",
       "[-1/5*sqrt(14) + 2/5  1/5*sqrt(14) + 2/5                  -1]\n",
       "[-1/5*sqrt(14) + 2/5  1/5*sqrt(14) + 2/5                   0]"
      ]
     },
     "execution_count": 206,
     "metadata": {},
     "output_type": "execute_result"
    }
   ],
   "source": [
    "Q"
   ]
  },
  {
   "cell_type": "code",
   "execution_count": null,
   "metadata": {},
   "outputs": [],
   "source": []
  }
 ],
 "metadata": {
  "kernelspec": {
   "display_name": "SageMath 9.1",
   "language": "sage",
   "name": "sagemath"
  },
  "language_info": {
   "codemirror_mode": {
    "name": "ipython",
    "version": 3
   },
   "file_extension": ".py",
   "mimetype": "text/x-python",
   "name": "python",
   "nbconvert_exporter": "python",
   "pygments_lexer": "ipython3",
   "version": "3.7.8"
  }
 },
 "nbformat": 4,
 "nbformat_minor": 2
}
