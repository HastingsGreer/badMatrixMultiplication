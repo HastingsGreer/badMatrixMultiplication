{
 "cells": [
  {
   "cell_type": "code",
   "execution_count": 273,
   "metadata": {},
   "outputs": [],
   "source": [
    "N = 4\n",
    "e = var('e', n=N^2, latex_name='e')\n",
    "def mymin(x):\n",
    "    return (abs(x - .005) - x + .005) / 2\n",
    "#    return (abs(x ) - x) / 2\n",
    "\n",
    "def edict(En):\n",
    "    return {str(ei):en for ei, en in zip(e, En)}"
   ]
  },
  {
   "cell_type": "code",
   "execution_count": 274,
   "metadata": {},
   "outputs": [
    {
     "data": {
      "text/plain": [
       "[ e0  e1  e2  e3]\n",
       "[ e4  e5  e6  e7]\n",
       "[ e8  e9 e10 e11]\n",
       "[e12 e13 e14 e15]"
      ]
     },
     "execution_count": 274,
     "metadata": {},
     "output_type": "execute_result"
    }
   ],
   "source": [
    "E = matrix(SR, N, N, e)\n",
    "E"
   ]
  },
  {
   "cell_type": "code",
   "execution_count": 275,
   "metadata": {},
   "outputs": [],
   "source": [
    "A = E + identity_matrix(N)\n",
    "B = 10 * (E^-1 + identity_matrix(N))"
   ]
  },
  {
   "cell_type": "code",
   "execution_count": 276,
   "metadata": {},
   "outputs": [],
   "source": [
    "Qs = (E + identity_matrix(N)).list() + (E^-1 + identity_matrix(N)).list()\n",
    "Qs = [q.simplify_full() for q in Qs]"
   ]
  },
  {
   "cell_type": "code",
   "execution_count": 277,
   "metadata": {},
   "outputs": [],
   "source": [
    "int_lambda = 0\n",
    "loss = sum([-mymin(q) for q in Qs] \n",
    "         + [ - int_lambda * (1 - cos(2 * pi * q)) for q in Qs[:N*N]])\n",
    "grad = [derivative(loss, ee) for ee in e]\n",
    "def grad_numeric(En):\n",
    "    return [g.substitute(**edict(En)).n() for g in grad]"
   ]
  },
  {
   "cell_type": "code",
   "execution_count": 278,
   "metadata": {},
   "outputs": [
    {
     "data": {
      "text/plain": [
       "1/2*e0 + 1/2*e1 + 1/2*e10 + 1/2*e11 + 1/2*e12 + 1/2*e13 + 1/2*e14 + 1/2*e15 + 1/2*e2 + 1/2*e3 + 1/2*e4 + 1/2*e5 + 1/2*e6 + 1/2*e7 + 1/2*e8 + 1/2*e9 + 1/2*(e1*e10*e12 - e0*e10*e13 - (e1*e14 - e13*e2)*e8 + (e0*e14 - e12*e2)*e9)/((e1*e11*e14 - e1*e10*e15 - e11*e13*e2 + e10*e13*e3)*e4 - (e0*e11*e14 - e0*e10*e15 - e11*e12*e2 + e10*e12*e3)*e5 - (e1*e11*e12 - e0*e11*e13)*e6 + (e1*e10*e12 - e0*e10*e13)*e7 - ((e15*e2 - e14*e3)*e5 - (e1*e15 - e13*e3)*e6 + (e1*e14 - e13*e2)*e7)*e8 + ((e15*e2 - e14*e3)*e4 - (e0*e15 - e12*e3)*e6 + (e0*e14 - e12*e2)*e7)*e9) - 1/2*(e1*e11*e12 - e0*e11*e13 - (e1*e15 - e13*e3)*e8 + (e0*e15 - e12*e3)*e9)/((e1*e11*e14 - e1*e10*e15 - e11*e13*e2 + e10*e13*e3)*e4 - (e0*e11*e14 - e0*e10*e15 - e11*e12*e2 + e10*e12*e3)*e5 - (e1*e11*e12 - e0*e11*e13)*e6 + (e1*e10*e12 - e0*e10*e13)*e7 - ((e15*e2 - e14*e3)*e5 - (e1*e15 - e13*e3)*e6 + (e1*e14 - e13*e2)*e7)*e8 + ((e15*e2 - e14*e3)*e4 - (e0*e15 - e12*e3)*e6 + (e0*e14 - e12*e2)*e7)*e9) - 1/2*(e0*e11*e14 - e0*e10*e15 - e11*e12*e2 + e10*e12*e3 - (e1*e11*e14 - e1*e10*e15 - e11*e13*e2 + e10*e13*e3)*e4 + (e0*e11*e14 - e0*e10*e15 - e11*e12*e2 + e10*e12*e3)*e5 + (e1*e11*e12 - e0*e11*e13)*e6 - (e1*e10*e12 - e0*e10*e13)*e7 + (e15*e2 - e14*e3 + (e15*e2 - e14*e3)*e5 - (e1*e15 - e13*e3)*e6 + (e1*e14 - e13*e2)*e7)*e8 - ((e15*e2 - e14*e3)*e4 - (e0*e15 - e12*e3)*e6 + (e0*e14 - e12*e2)*e7)*e9)/((e1*e11*e14 - e1*e10*e15 - e11*e13*e2 + e10*e13*e3)*e4 - (e0*e11*e14 - e0*e10*e15 - e11*e12*e2 + e10*e12*e3)*e5 - (e1*e11*e12 - e0*e11*e13)*e6 + (e1*e10*e12 - e0*e10*e13)*e7 - ((e15*e2 - e14*e3)*e5 - (e1*e15 - e13*e3)*e6 + (e1*e14 - e13*e2)*e7)*e8 + ((e15*e2 - e14*e3)*e4 - (e0*e15 - e12*e3)*e6 + (e0*e14 - e12*e2)*e7)*e9) + 1/2*(e1*e11*e14 - e1*e10*e15 - e11*e13*e2 + e10*e13*e3 + (e15*e2 - e14*e3)*e9)/((e1*e11*e14 - e1*e10*e15 - e11*e13*e2 + e10*e13*e3)*e4 - (e0*e11*e14 - e0*e10*e15 - e11*e12*e2 + e10*e12*e3)*e5 - (e1*e11*e12 - e0*e11*e13)*e6 + (e1*e10*e12 - e0*e10*e13)*e7 - ((e15*e2 - e14*e3)*e5 - (e1*e15 - e13*e3)*e6 + (e1*e14 - e13*e2)*e7)*e8 + ((e15*e2 - e14*e3)*e4 - (e0*e15 - e12*e3)*e6 + (e0*e14 - e12*e2)*e7)*e9) + 1/2*(e1*e11*e4 - e0*e11*e5 + (e3*e5 - e1*e7)*e8 - (e3*e4 - e0*e7)*e9)/((e1*e11*e14 - e1*e10*e15 - e11*e13*e2 + e10*e13*e3)*e4 - (e0*e11*e14 - e0*e10*e15 - e11*e12*e2 + e10*e12*e3)*e5 - (e1*e11*e12 - e0*e11*e13)*e6 + (e1*e10*e12 - e0*e10*e13)*e7 - ((e15*e2 - e14*e3)*e5 - (e1*e15 - e13*e3)*e6 + (e1*e14 - e13*e2)*e7)*e8 + ((e15*e2 - e14*e3)*e4 - (e0*e15 - e12*e3)*e6 + (e0*e14 - e12*e2)*e7)*e9) + 1/2*(e10*e13*e4 - e10*e12*e5 + (e14*e5 - e13*e6)*e8 - (e14*e4 - e12*e6)*e9)/((e1*e11*e14 - e1*e10*e15 - e11*e13*e2 + e10*e13*e3)*e4 - (e0*e11*e14 - e0*e10*e15 - e11*e12*e2 + e10*e12*e3)*e5 - (e1*e11*e12 - e0*e11*e13)*e6 + (e1*e10*e12 - e0*e10*e13)*e7 - ((e15*e2 - e14*e3)*e5 - (e1*e15 - e13*e3)*e6 + (e1*e14 - e13*e2)*e7)*e8 + ((e15*e2 - e14*e3)*e4 - (e0*e15 - e12*e3)*e6 + (e0*e14 - e12*e2)*e7)*e9) - 1/2*(e11*e13*e4 - e11*e12*e5 + (e15*e5 - e13*e7)*e8 - (e15*e4 - e12*e7)*e9)/((e1*e11*e14 - e1*e10*e15 - e11*e13*e2 + e10*e13*e3)*e4 - (e0*e11*e14 - e0*e10*e15 - e11*e12*e2 + e10*e12*e3)*e5 - (e1*e11*e12 - e0*e11*e13)*e6 + (e1*e10*e12 - e0*e10*e13)*e7 - ((e15*e2 - e14*e3)*e5 - (e1*e15 - e13*e3)*e6 + (e1*e14 - e13*e2)*e7)*e8 + ((e15*e2 - e14*e3)*e4 - (e0*e15 - e12*e3)*e6 + (e0*e14 - e12*e2)*e7)*e9) + 1/2*(e0*e11*e6 - e0*e10*e7 - (e11*e2 - e10*e3)*e4 - (e3*e6 - e2*e7)*e8)/((e1*e11*e14 - e1*e10*e15 - e11*e13*e2 + e10*e13*e3)*e4 - (e0*e11*e14 - e0*e10*e15 - e11*e12*e2 + e10*e12*e3)*e5 - (e1*e11*e12 - e0*e11*e13)*e6 + (e1*e10*e12 - e0*e10*e13)*e7 - ((e15*e2 - e14*e3)*e5 - (e1*e15 - e13*e3)*e6 + (e1*e14 - e13*e2)*e7)*e8 + ((e15*e2 - e14*e3)*e4 - (e0*e15 - e12*e3)*e6 + (e0*e14 - e12*e2)*e7)*e9) - 1/2*(e1*e11*e6 - e1*e10*e7 - (e11*e2 - e10*e3)*e5 - (e3*e6 - e2*e7)*e9)/((e1*e11*e14 - e1*e10*e15 - e11*e13*e2 + e10*e13*e3)*e4 - (e0*e11*e14 - e0*e10*e15 - e11*e12*e2 + e10*e12*e3)*e5 - (e1*e11*e12 - e0*e11*e13)*e6 + (e1*e10*e12 - e0*e10*e13)*e7 - ((e15*e2 - e14*e3)*e5 - (e1*e15 - e13*e3)*e6 + (e1*e14 - e13*e2)*e7)*e8 + ((e15*e2 - e14*e3)*e4 - (e0*e15 - e12*e3)*e6 + (e0*e14 - e12*e2)*e7)*e9) - 1/2*(e11*e12*e6 - e10*e12*e7 - (e11*e14 - e10*e15)*e4 - (e15*e6 - e14*e7)*e8)/((e1*e11*e14 - e1*e10*e15 - e11*e13*e2 + e10*e13*e3)*e4 - (e0*e11*e14 - e0*e10*e15 - e11*e12*e2 + e10*e12*e3)*e5 - (e1*e11*e12 - e0*e11*e13)*e6 + (e1*e10*e12 - e0*e10*e13)*e7 - ((e15*e2 - e14*e3)*e5 - (e1*e15 - e13*e3)*e6 + (e1*e14 - e13*e2)*e7)*e8 + ((e15*e2 - e14*e3)*e4 - (e0*e15 - e12*e3)*e6 + (e0*e14 - e12*e2)*e7)*e9) + 1/2*((e1*e11*e14 - e1*e10*e15 - e11*e13*e2 + e10*e13*e3 - e1*e10)*e4 - (e0*e11*e14 - e0*e10*e15 - e11*e12*e2 + e10*e12*e3 - e0*e10)*e5 - (e1*e11*e12 - e0*e11*e13)*e6 + (e1*e10*e12 - e0*e10*e13)*e7 - (((e15 + 1)*e2 - e14*e3)*e5 - (e1*e15 - e13*e3 + e1)*e6 + (e1*e14 - e13*e2)*e7)*e8 + (((e15 + 1)*e2 - e14*e3)*e4 - (e0*e15 - e12*e3 + e0)*e6 + (e0*e14 - e12*e2)*e7)*e9)/((e1*e11*e14 - e1*e10*e15 - e11*e13*e2 + e10*e13*e3)*e4 - (e0*e11*e14 - e0*e10*e15 - e11*e12*e2 + e10*e12*e3)*e5 - (e1*e11*e12 - e0*e11*e13)*e6 + (e1*e10*e12 - e0*e10*e13)*e7 - ((e15*e2 - e14*e3)*e5 - (e1*e15 - e13*e3)*e6 + (e1*e14 - e13*e2)*e7)*e8 + ((e15*e2 - e14*e3)*e4 - (e0*e15 - e12*e3)*e6 + (e0*e14 - e12*e2)*e7)*e9) + 1/2*((e1*e11*e14 - e1*e10*e15 - e11*e13*e2 + e10*e13*e3)*e4 - ((e0 + 1)*e11*e14 - (e0 + 1)*e10*e15 - e11*e12*e2 + e10*e12*e3)*e5 - (e1*e11*e12 - (e0 + 1)*e11*e13)*e6 + (e1*e10*e12 - (e0 + 1)*e10*e13)*e7 - ((e15*e2 - e14*e3)*e5 - (e1*e15 - e13*e3)*e6 + (e1*e14 - e13*e2)*e7)*e8 + ((e15*e2 - e14*e3)*e4 - ((e0 + 1)*e15 - e12*e3)*e6 + ((e0 + 1)*e14 - e12*e2)*e7)*e9)/((e1*e11*e14 - e1*e10*e15 - e11*e13*e2 + e10*e13*e3)*e4 - (e0*e11*e14 - e0*e10*e15 - e11*e12*e2 + e10*e12*e3)*e5 - (e1*e11*e12 - e0*e11*e13)*e6 + (e1*e10*e12 - e0*e10*e13)*e7 - ((e15*e2 - e14*e3)*e5 - (e1*e15 - e13*e3)*e6 + (e1*e14 - e13*e2)*e7)*e8 + ((e15*e2 - e14*e3)*e4 - (e0*e15 - e12*e3)*e6 + (e0*e14 - e12*e2)*e7)*e9) + 1/2*((e1*e11*e14 - e11*e13*e2 + (e10 + 1)*e13*e3 - (e1*e10 + e1)*e15)*e4 - (e0*e11*e14 - e11*e12*e2 + (e10 + 1)*e12*e3 - (e0*e10 + e0)*e15)*e5 - (e1*e11*e12 - e0*e11*e13)*e6 + ((e1*e10 + e1)*e12 - (e0*e10 + e0)*e13)*e7 - ((e15*e2 - e14*e3)*e5 - (e1*e15 - e13*e3)*e6 + (e1*e14 - e13*e2)*e7)*e8 + ((e15*e2 - e14*e3)*e4 - (e0*e15 - e12*e3)*e6 + (e0*e14 - e12*e2)*e7)*e9)/((e1*e11*e14 - e1*e10*e15 - e11*e13*e2 + e10*e13*e3)*e4 - (e0*e11*e14 - e0*e10*e15 - e11*e12*e2 + e10*e12*e3)*e5 - (e1*e11*e12 - e0*e11*e13)*e6 + (e1*e10*e12 - e0*e10*e13)*e7 - ((e15*e2 - e14*e3)*e5 - (e1*e15 - e13*e3)*e6 + (e1*e14 - e13*e2)*e7)*e8 + ((e15*e2 - e14*e3)*e4 - (e0*e15 - e12*e3)*e6 + (e0*e14 - e12*e2)*e7)*e9) + 1/2*((e1*e14 - e13*e2)*e4 - (e0*e14 - e12*e2)*e5 - (e1*e12 - e0*e13)*e6)/((e1*e11*e14 - e1*e10*e15 - e11*e13*e2 + e10*e13*e3)*e4 - (e0*e11*e14 - e0*e10*e15 - e11*e12*e2 + e10*e12*e3)*e5 - (e1*e11*e12 - e0*e11*e13)*e6 + (e1*e10*e12 - e0*e10*e13)*e7 - ((e15*e2 - e14*e3)*e5 - (e1*e15 - e13*e3)*e6 + (e1*e14 - e13*e2)*e7)*e8 + ((e15*e2 - e14*e3)*e4 - (e0*e15 - e12*e3)*e6 + (e0*e14 - e12*e2)*e7)*e9) + 1/2*((e15*e2 - e14*e3)*e4 - (e0*e15 - e12*e3)*e6 + (e0*e14 - e12*e2)*e7)/((e1*e11*e14 - e1*e10*e15 - e11*e13*e2 + e10*e13*e3)*e4 - (e0*e11*e14 - e0*e10*e15 - e11*e12*e2 + e10*e12*e3)*e5 - (e1*e11*e12 - e0*e11*e13)*e6 + (e1*e10*e12 - e0*e10*e13)*e7 - ((e15*e2 - e14*e3)*e5 - (e1*e15 - e13*e3)*e6 + (e1*e14 - e13*e2)*e7)*e8 + ((e15*e2 - e14*e3)*e4 - (e0*e15 - e12*e3)*e6 + (e0*e14 - e12*e2)*e7)*e9) - 1/2*((e15*e2 - e14*e3)*e5 - (e1*e15 - e13*e3)*e6 + (e1*e14 - e13*e2)*e7)/((e1*e11*e14 - e1*e10*e15 - e11*e13*e2 + e10*e13*e3)*e4 - (e0*e11*e14 - e0*e10*e15 - e11*e12*e2 + e10*e12*e3)*e5 - (e1*e11*e12 - e0*e11*e13)*e6 + (e1*e10*e12 - e0*e10*e13)*e7 - ((e15*e2 - e14*e3)*e5 - (e1*e15 - e13*e3)*e6 + (e1*e14 - e13*e2)*e7)*e8 + ((e15*e2 - e14*e3)*e4 - (e0*e15 - e12*e3)*e6 + (e0*e14 - e12*e2)*e7)*e9) - 1/2*abs(e0 + 0.995000000000000) - 1/2*abs(e1 - 0.00500000000000000) - 1/2*abs(e10 + 0.995000000000000) - 1/2*abs(e11 - 0.00500000000000000) - 1/2*abs(e12 - 0.00500000000000000) - 1/2*abs(e13 - 0.00500000000000000) - 1/2*abs(e14 - 0.00500000000000000) - 1/2*abs(e15 + 0.995000000000000) - 1/2*abs(e2 - 0.00500000000000000) - 1/2*abs(e3 - 0.00500000000000000) - 1/2*abs(e4 - 0.00500000000000000) - 1/2*abs(e5 + 0.995000000000000) - 1/2*abs(e6 - 0.00500000000000000) - 1/2*abs(e7 - 0.00500000000000000) - 1/2*abs(e8 - 0.00500000000000000) - 1/2*abs(e9 - 0.00500000000000000) - 1/2*abs((e1*e10*e12 - e0*e10*e13 - (e1*e14 - e13*e2)*e8 + (e0*e14 - e12*e2)*e9)/((e1*e11*e14 - e1*e10*e15 - e11*e13*e2 + e10*e13*e3)*e4 - (e0*e11*e14 - e0*e10*e15 - e11*e12*e2 + e10*e12*e3)*e5 - (e1*e11*e12 - e0*e11*e13)*e6 + (e1*e10*e12 - e0*e10*e13)*e7 - ((e15*e2 - e14*e3)*e5 - (e1*e15 - e13*e3)*e6 + (e1*e14 - e13*e2)*e7)*e8 + ((e15*e2 - e14*e3)*e4 - (e0*e15 - e12*e3)*e6 + (e0*e14 - e12*e2)*e7)*e9) - 0.00500000000000000) - 1/2*abs(-(e1*e11*e12 - e0*e11*e13 - (e1*e15 - e13*e3)*e8 + (e0*e15 - e12*e3)*e9)/((e1*e11*e14 - e1*e10*e15 - e11*e13*e2 + e10*e13*e3)*e4 - (e0*e11*e14 - e0*e10*e15 - e11*e12*e2 + e10*e12*e3)*e5 - (e1*e11*e12 - e0*e11*e13)*e6 + (e1*e10*e12 - e0*e10*e13)*e7 - ((e15*e2 - e14*e3)*e5 - (e1*e15 - e13*e3)*e6 + (e1*e14 - e13*e2)*e7)*e8 + ((e15*e2 - e14*e3)*e4 - (e0*e15 - e12*e3)*e6 + (e0*e14 - e12*e2)*e7)*e9) - 0.00500000000000000) - 1/2*abs(-(e0*e11*e14 - e0*e10*e15 - e11*e12*e2 + e10*e12*e3 - (e1*e11*e14 - e1*e10*e15 - e11*e13*e2 + e10*e13*e3)*e4 + (e0*e11*e14 - e0*e10*e15 - e11*e12*e2 + e10*e12*e3)*e5 + (e1*e11*e12 - e0*e11*e13)*e6 - (e1*e10*e12 - e0*e10*e13)*e7 + (e15*e2 - e14*e3 + (e15*e2 - e14*e3)*e5 - (e1*e15 - e13*e3)*e6 + (e1*e14 - e13*e2)*e7)*e8 - ((e15*e2 - e14*e3)*e4 - (e0*e15 - e12*e3)*e6 + (e0*e14 - e12*e2)*e7)*e9)/((e1*e11*e14 - e1*e10*e15 - e11*e13*e2 + e10*e13*e3)*e4 - (e0*e11*e14 - e0*e10*e15 - e11*e12*e2 + e10*e12*e3)*e5 - (e1*e11*e12 - e0*e11*e13)*e6 + (e1*e10*e12 - e0*e10*e13)*e7 - ((e15*e2 - e14*e3)*e5 - (e1*e15 - e13*e3)*e6 + (e1*e14 - e13*e2)*e7)*e8 + ((e15*e2 - e14*e3)*e4 - (e0*e15 - e12*e3)*e6 + (e0*e14 - e12*e2)*e7)*e9) - 0.00500000000000000) - 1/2*abs((e1*e11*e14 - e1*e10*e15 - e11*e13*e2 + e10*e13*e3 + (e15*e2 - e14*e3)*e9)/((e1*e11*e14 - e1*e10*e15 - e11*e13*e2 + e10*e13*e3)*e4 - (e0*e11*e14 - e0*e10*e15 - e11*e12*e2 + e10*e12*e3)*e5 - (e1*e11*e12 - e0*e11*e13)*e6 + (e1*e10*e12 - e0*e10*e13)*e7 - ((e15*e2 - e14*e3)*e5 - (e1*e15 - e13*e3)*e6 + (e1*e14 - e13*e2)*e7)*e8 + ((e15*e2 - e14*e3)*e4 - (e0*e15 - e12*e3)*e6 + (e0*e14 - e12*e2)*e7)*e9) - 0.00500000000000000) - 1/2*abs((e1*e11*e4 - e0*e11*e5 + (e3*e5 - e1*e7)*e8 - (e3*e4 - e0*e7)*e9)/((e1*e11*e14 - e1*e10*e15 - e11*e13*e2 + e10*e13*e3)*e4 - (e0*e11*e14 - e0*e10*e15 - e11*e12*e2 + e10*e12*e3)*e5 - (e1*e11*e12 - e0*e11*e13)*e6 + (e1*e10*e12 - e0*e10*e13)*e7 - ((e15*e2 - e14*e3)*e5 - (e1*e15 - e13*e3)*e6 + (e1*e14 - e13*e2)*e7)*e8 + ((e15*e2 - e14*e3)*e4 - (e0*e15 - e12*e3)*e6 + (e0*e14 - e12*e2)*e7)*e9) - 0.00500000000000000) - 1/2*abs((e10*e13*e4 - e10*e12*e5 + (e14*e5 - e13*e6)*e8 - (e14*e4 - e12*e6)*e9)/((e1*e11*e14 - e1*e10*e15 - e11*e13*e2 + e10*e13*e3)*e4 - (e0*e11*e14 - e0*e10*e15 - e11*e12*e2 + e10*e12*e3)*e5 - (e1*e11*e12 - e0*e11*e13)*e6 + (e1*e10*e12 - e0*e10*e13)*e7 - ((e15*e2 - e14*e3)*e5 - (e1*e15 - e13*e3)*e6 + (e1*e14 - e13*e2)*e7)*e8 + ((e15*e2 - e14*e3)*e4 - (e0*e15 - e12*e3)*e6 + (e0*e14 - e12*e2)*e7)*e9) - 0.00500000000000000) - 1/2*abs(-(e11*e13*e4 - e11*e12*e5 + (e15*e5 - e13*e7)*e8 - (e15*e4 - e12*e7)*e9)/((e1*e11*e14 - e1*e10*e15 - e11*e13*e2 + e10*e13*e3)*e4 - (e0*e11*e14 - e0*e10*e15 - e11*e12*e2 + e10*e12*e3)*e5 - (e1*e11*e12 - e0*e11*e13)*e6 + (e1*e10*e12 - e0*e10*e13)*e7 - ((e15*e2 - e14*e3)*e5 - (e1*e15 - e13*e3)*e6 + (e1*e14 - e13*e2)*e7)*e8 + ((e15*e2 - e14*e3)*e4 - (e0*e15 - e12*e3)*e6 + (e0*e14 - e12*e2)*e7)*e9) - 0.00500000000000000) - 1/2*abs((e0*e11*e6 - e0*e10*e7 - (e11*e2 - e10*e3)*e4 - (e3*e6 - e2*e7)*e8)/((e1*e11*e14 - e1*e10*e15 - e11*e13*e2 + e10*e13*e3)*e4 - (e0*e11*e14 - e0*e10*e15 - e11*e12*e2 + e10*e12*e3)*e5 - (e1*e11*e12 - e0*e11*e13)*e6 + (e1*e10*e12 - e0*e10*e13)*e7 - ((e15*e2 - e14*e3)*e5 - (e1*e15 - e13*e3)*e6 + (e1*e14 - e13*e2)*e7)*e8 + ((e15*e2 - e14*e3)*e4 - (e0*e15 - e12*e3)*e6 + (e0*e14 - e12*e2)*e7)*e9) - 0.00500000000000000) - 1/2*abs(-(e1*e11*e6 - e1*e10*e7 - (e11*e2 - e10*e3)*e5 - (e3*e6 - e2*e7)*e9)/((e1*e11*e14 - e1*e10*e15 - e11*e13*e2 + e10*e13*e3)*e4 - (e0*e11*e14 - e0*e10*e15 - e11*e12*e2 + e10*e12*e3)*e5 - (e1*e11*e12 - e0*e11*e13)*e6 + (e1*e10*e12 - e0*e10*e13)*e7 - ((e15*e2 - e14*e3)*e5 - (e1*e15 - e13*e3)*e6 + (e1*e14 - e13*e2)*e7)*e8 + ((e15*e2 - e14*e3)*e4 - (e0*e15 - e12*e3)*e6 + (e0*e14 - e12*e2)*e7)*e9) - 0.00500000000000000) - 1/2*abs(-(e11*e12*e6 - e10*e12*e7 - (e11*e14 - e10*e15)*e4 - (e15*e6 - e14*e7)*e8)/((e1*e11*e14 - e1*e10*e15 - e11*e13*e2 + e10*e13*e3)*e4 - (e0*e11*e14 - e0*e10*e15 - e11*e12*e2 + e10*e12*e3)*e5 - (e1*e11*e12 - e0*e11*e13)*e6 + (e1*e10*e12 - e0*e10*e13)*e7 - ((e15*e2 - e14*e3)*e5 - (e1*e15 - e13*e3)*e6 + (e1*e14 - e13*e2)*e7)*e8 + ((e15*e2 - e14*e3)*e4 - (e0*e15 - e12*e3)*e6 + (e0*e14 - e12*e2)*e7)*e9) - 0.00500000000000000) - 1/2*abs(((e1*e11*e14 - e1*e10*e15 - e11*e13*e2 + e10*e13*e3 - e1*e10)*e4 - (e0*e11*e14 - e0*e10*e15 - e11*e12*e2 + e10*e12*e3 - e0*e10)*e5 - (e1*e11*e12 - e0*e11*e13)*e6 + (e1*e10*e12 - e0*e10*e13)*e7 - (((e15 + 1)*e2 - e14*e3)*e5 - (e1*e15 - e13*e3 + e1)*e6 + (e1*e14 - e13*e2)*e7)*e8 + (((e15 + 1)*e2 - e14*e3)*e4 - (e0*e15 - e12*e3 + e0)*e6 + (e0*e14 - e12*e2)*e7)*e9)/((e1*e11*e14 - e1*e10*e15 - e11*e13*e2 + e10*e13*e3)*e4 - (e0*e11*e14 - e0*e10*e15 - e11*e12*e2 + e10*e12*e3)*e5 - (e1*e11*e12 - e0*e11*e13)*e6 + (e1*e10*e12 - e0*e10*e13)*e7 - ((e15*e2 - e14*e3)*e5 - (e1*e15 - e13*e3)*e6 + (e1*e14 - e13*e2)*e7)*e8 + ((e15*e2 - e14*e3)*e4 - (e0*e15 - e12*e3)*e6 + (e0*e14 - e12*e2)*e7)*e9) - 0.00500000000000000) - 1/2*abs(((e1*e11*e14 - e1*e10*e15 - e11*e13*e2 + e10*e13*e3)*e4 - ((e0 + 1)*e11*e14 - (e0 + 1)*e10*e15 - e11*e12*e2 + e10*e12*e3)*e5 - (e1*e11*e12 - (e0 + 1)*e11*e13)*e6 + (e1*e10*e12 - (e0 + 1)*e10*e13)*e7 - ((e15*e2 - e14*e3)*e5 - (e1*e15 - e13*e3)*e6 + (e1*e14 - e13*e2)*e7)*e8 + ((e15*e2 - e14*e3)*e4 - ((e0 + 1)*e15 - e12*e3)*e6 + ((e0 + 1)*e14 - e12*e2)*e7)*e9)/((e1*e11*e14 - e1*e10*e15 - e11*e13*e2 + e10*e13*e3)*e4 - (e0*e11*e14 - e0*e10*e15 - e11*e12*e2 + e10*e12*e3)*e5 - (e1*e11*e12 - e0*e11*e13)*e6 + (e1*e10*e12 - e0*e10*e13)*e7 - ((e15*e2 - e14*e3)*e5 - (e1*e15 - e13*e3)*e6 + (e1*e14 - e13*e2)*e7)*e8 + ((e15*e2 - e14*e3)*e4 - (e0*e15 - e12*e3)*e6 + (e0*e14 - e12*e2)*e7)*e9) - 0.00500000000000000) - 1/2*abs(((e1*e11*e14 - e11*e13*e2 + (e10 + 1)*e13*e3 - (e1*e10 + e1)*e15)*e4 - (e0*e11*e14 - e11*e12*e2 + (e10 + 1)*e12*e3 - (e0*e10 + e0)*e15)*e5 - (e1*e11*e12 - e0*e11*e13)*e6 + ((e1*e10 + e1)*e12 - (e0*e10 + e0)*e13)*e7 - ((e15*e2 - e14*e3)*e5 - (e1*e15 - e13*e3)*e6 + (e1*e14 - e13*e2)*e7)*e8 + ((e15*e2 - e14*e3)*e4 - (e0*e15 - e12*e3)*e6 + (e0*e14 - e12*e2)*e7)*e9)/((e1*e11*e14 - e1*e10*e15 - e11*e13*e2 + e10*e13*e3)*e4 - (e0*e11*e14 - e0*e10*e15 - e11*e12*e2 + e10*e12*e3)*e5 - (e1*e11*e12 - e0*e11*e13)*e6 + (e1*e10*e12 - e0*e10*e13)*e7 - ((e15*e2 - e14*e3)*e5 - (e1*e15 - e13*e3)*e6 + (e1*e14 - e13*e2)*e7)*e8 + ((e15*e2 - e14*e3)*e4 - (e0*e15 - e12*e3)*e6 + (e0*e14 - e12*e2)*e7)*e9) - 0.00500000000000000) - 1/2*abs(((e1*e14 - e13*e2)*e4 - (e0*e14 - e12*e2)*e5 - (e1*e12 - e0*e13)*e6)/((e1*e11*e14 - e1*e10*e15 - e11*e13*e2 + e10*e13*e3)*e4 - (e0*e11*e14 - e0*e10*e15 - e11*e12*e2 + e10*e12*e3)*e5 - (e1*e11*e12 - e0*e11*e13)*e6 + (e1*e10*e12 - e0*e10*e13)*e7 - ((e15*e2 - e14*e3)*e5 - (e1*e15 - e13*e3)*e6 + (e1*e14 - e13*e2)*e7)*e8 + ((e15*e2 - e14*e3)*e4 - (e0*e15 - e12*e3)*e6 + (e0*e14 - e12*e2)*e7)*e9) - 0.00500000000000000) - 1/2*abs(((e15*e2 - e14*e3)*e4 - (e0*e15 - e12*e3)*e6 + (e0*e14 - e12*e2)*e7)/((e1*e11*e14 - e1*e10*e15 - e11*e13*e2 + e10*e13*e3)*e4 - (e0*e11*e14 - e0*e10*e15 - e11*e12*e2 + e10*e12*e3)*e5 - (e1*e11*e12 - e0*e11*e13)*e6 + (e1*e10*e12 - e0*e10*e13)*e7 - ((e15*e2 - e14*e3)*e5 - (e1*e15 - e13*e3)*e6 + (e1*e14 - e13*e2)*e7)*e8 + ((e15*e2 - e14*e3)*e4 - (e0*e15 - e12*e3)*e6 + (e0*e14 - e12*e2)*e7)*e9) - 0.00500000000000000) - 1/2*abs(-((e15*e2 - e14*e3)*e5 - (e1*e15 - e13*e3)*e6 + (e1*e14 - e13*e2)*e7)/((e1*e11*e14 - e1*e10*e15 - e11*e13*e2 + e10*e13*e3)*e4 - (e0*e11*e14 - e0*e10*e15 - e11*e12*e2 + e10*e12*e3)*e5 - (e1*e11*e12 - e0*e11*e13)*e6 + (e1*e10*e12 - e0*e10*e13)*e7 - ((e15*e2 - e14*e3)*e5 - (e1*e15 - e13*e3)*e6 + (e1*e14 - e13*e2)*e7)*e8 + ((e15*e2 - e14*e3)*e4 - (e0*e15 - e12*e3)*e6 + (e0*e14 - e12*e2)*e7)*e9) - 0.00500000000000000) + 1.92000000000000"
      ]
     },
     "execution_count": 278,
     "metadata": {},
     "output_type": "execute_result"
    }
   ],
   "source": [
    "loss"
   ]
  },
  {
   "cell_type": "code",
   "execution_count": 279,
   "metadata": {},
   "outputs": [],
   "source": [
    "#loss.substitute(**edict((5, 4, 8, 6)))"
   ]
  },
  {
   "cell_type": "code",
   "execution_count": 280,
   "metadata": {},
   "outputs": [
    {
     "data": {
      "text/plain": [
       "-1.38181947794723"
      ]
     },
     "execution_count": 280,
     "metadata": {},
     "output_type": "execute_result"
    }
   ],
   "source": [
    "import numpy as np\n",
    "while True:\n",
    "    En = 1.0 + np.random.randint(np.zeros(N * N) + 4) + .0001 * np.random.randn(N * N)\n",
    "    if det(E).substitute(**edict(En)) > 0:\n",
    "        break\n",
    "loss.substitute(**edict(En)).n()\n"
   ]
  },
  {
   "cell_type": "code",
   "execution_count": 281,
   "metadata": {},
   "outputs": [
    {
     "data": {
      "text/plain": [
       "28.00478426653823"
      ]
     },
     "execution_count": 281,
     "metadata": {},
     "output_type": "execute_result"
    }
   ],
   "source": [
    "det(E).substitute(**edict(En))"
   ]
  },
  {
   "cell_type": "code",
   "execution_count": 267,
   "metadata": {},
   "outputs": [
    {
     "data": {
      "text/plain": [
       "array([[4.00002144, 3.99999984, 1.99990134],\n",
       "       [2.00003654, 3.9999514 , 2.00000649],\n",
       "       [2.99995097, 0.99997631, 0.99979651]])"
      ]
     },
     "execution_count": 267,
     "metadata": {},
     "output_type": "execute_result"
    }
   ],
   "source": [
    "En.reshape((N, N))"
   ]
  },
  {
   "cell_type": "code",
   "execution_count": 283,
   "metadata": {},
   "outputs": [
    {
     "name": "stdout",
     "output_type": "stream",
     "text": [
      "-0.0849543848613002\n",
      "-0.0574756520730779\n",
      "-0.0515482481578163\n",
      "-0.0532900369618572\n",
      "-0.0680207476829467\n",
      "-0.0636512239196152\n",
      "-0.0701397944000519\n",
      "-0.0701422267633589\n",
      "-0.0646750801944860\n",
      "-0.0578614941827196\n"
     ]
    }
   ],
   "source": [
    "for _ in range(100):\n",
    "    En = En + .01 * np.array(grad_numeric(En))\n",
    "    En = En / (det(E).substitute(**edict(En)) / 10)^(1 / N)\n",
    "    if _ % 10 == 0:\n",
    "        print(loss.substitute(**edict(En)).n())\n",
    "        if loss.substitute(**edict(En)).n() > -.0000001:\n",
    "            break"
   ]
  },
  {
   "cell_type": "code",
   "execution_count": 269,
   "metadata": {},
   "outputs": [
    {
     "data": {
      "text/plain": [
       "[ 0.9674584886197138   2.535125196646297 0.04778276561786827]\n",
       "[0.11406640258384304  0.9684350755575752   1.929446746328189]\n",
       "[ 2.0416472213870165 0.04899028398798961  0.9754054644528252]"
      ]
     },
     "execution_count": 269,
     "metadata": {},
     "output_type": "execute_result"
    }
   ],
   "source": [
    "E.substitute(**edict(En)) + identity_matrix(N)"
   ]
  },
  {
   "cell_type": "code",
   "execution_count": 270,
   "metadata": {},
   "outputs": [
    {
     "data": {
      "text/plain": [
       "[  9.906252180613961 0.06469111802278604   4.892897321590189]\n",
       "[ 3.9420549986482554   9.903244792704493 0.06823752143283199]\n",
       "[0.07003258573723538   5.177425531485046   9.711854559066861]"
      ]
     },
     "execution_count": 270,
     "metadata": {},
     "output_type": "execute_result"
    }
   ],
   "source": [
    "10 * (identity_matrix(N) + (E^-1).substitute(**edict(En)))"
   ]
  },
  {
   "cell_type": "code",
   "execution_count": 271,
   "metadata": {},
   "outputs": [
    {
     "data": {
      "text/plain": [
       "-(e5*e7 - e4*e8)*e0 + (e2*e7 - e1*e8)*e3 - (e2*e4 - e1*e5)*e6"
      ]
     },
     "execution_count": 271,
     "metadata": {},
     "output_type": "execute_result"
    }
   ],
   "source": []
  },
  {
   "cell_type": "code",
   "execution_count": 226,
   "metadata": {},
   "outputs": [
    {
     "data": {
      "text/plain": [
       "8.999999999999998"
      ]
     },
     "execution_count": 226,
     "metadata": {},
     "output_type": "execute_result"
    }
   ],
   "source": [
    "np.linalg.det(np.round(np.array(En, dtype=np.float)).reshape((3, 3)) + np.identity(3))"
   ]
  },
  {
   "cell_type": "code",
   "execution_count": 80,
   "metadata": {},
   "outputs": [
    {
     "data": {
      "text/plain": [
       "[e0 e1 e2]\n",
       "[e3 e4 e5]\n",
       "[e6 e7 e8]"
      ]
     },
     "execution_count": 80,
     "metadata": {},
     "output_type": "execute_result"
    }
   ],
   "source": [
    "E"
   ]
  },
  {
   "cell_type": "code",
   "execution_count": null,
   "metadata": {},
   "outputs": [],
   "source": []
  },
  {
   "cell_type": "code",
   "execution_count": 25,
   "metadata": {},
   "outputs": [
    {
     "ename": "ValueError",
     "evalue": "could not convert x to a real number",
     "output_type": "error",
     "traceback": [
      "\u001b[0;31m---------------------------------------------------------------------------\u001b[0m",
      "\u001b[0;31mTypeError\u001b[0m                                 Traceback (most recent call last)",
      "\u001b[0;32m/Users/hastings/opt/anaconda3/envs/sage/lib/python3.7/site-packages/sage/symbolic/expression.pyx\u001b[0m in \u001b[0;36msage.symbolic.expression.Expression._real_mpfi_ (build/cythonized/sage/symbolic/expression.cpp:10406)\u001b[0;34m()\u001b[0m\n\u001b[1;32m   1346\u001b[0m         \u001b[0;32mtry\u001b[0m\u001b[0;34m:\u001b[0m\u001b[0;34m\u001b[0m\u001b[0;34m\u001b[0m\u001b[0m\n\u001b[0;32m-> 1347\u001b[0;31m             \u001b[0;32mreturn\u001b[0m \u001b[0mself\u001b[0m\u001b[0;34m.\u001b[0m\u001b[0m_eval_self\u001b[0m\u001b[0;34m(\u001b[0m\u001b[0mR\u001b[0m\u001b[0;34m)\u001b[0m\u001b[0;34m\u001b[0m\u001b[0;34m\u001b[0m\u001b[0m\n\u001b[0m\u001b[1;32m   1348\u001b[0m         \u001b[0;32mexcept\u001b[0m \u001b[0mTypeError\u001b[0m\u001b[0;34m:\u001b[0m\u001b[0;34m\u001b[0m\u001b[0;34m\u001b[0m\u001b[0m\n",
      "\u001b[0;32m/Users/hastings/opt/anaconda3/envs/sage/lib/python3.7/site-packages/sage/symbolic/expression.pyx\u001b[0m in \u001b[0;36msage.symbolic.expression.Expression._eval_self (build/cythonized/sage/symbolic/expression.cpp:10061)\u001b[0;34m()\u001b[0m\n\u001b[1;32m   1266\u001b[0m         \u001b[0;32melse\u001b[0m\u001b[0;34m:\u001b[0m\u001b[0;34m\u001b[0m\u001b[0;34m\u001b[0m\u001b[0m\n\u001b[0;32m-> 1267\u001b[0;31m             \u001b[0;32mraise\u001b[0m \u001b[0mTypeError\u001b[0m\u001b[0;34m(\u001b[0m\u001b[0;34m\"Cannot evaluate symbolic expression to a numeric value.\"\u001b[0m\u001b[0;34m)\u001b[0m\u001b[0;34m\u001b[0m\u001b[0;34m\u001b[0m\u001b[0m\n\u001b[0m\u001b[1;32m   1268\u001b[0m \u001b[0;34m\u001b[0m\u001b[0m\n",
      "\u001b[0;31mTypeError\u001b[0m: Cannot evaluate symbolic expression to a numeric value.",
      "\nDuring handling of the above exception, another exception occurred:\n",
      "\u001b[0;31mTypeError\u001b[0m                                 Traceback (most recent call last)",
      "\u001b[0;32m/Users/hastings/opt/anaconda3/envs/sage/lib/python3.7/site-packages/sage/symbolic/expression.pyx\u001b[0m in \u001b[0;36msage.symbolic.expression.Expression.round (build/cythonized/sage/symbolic/expression.cpp:34926)\u001b[0;34m()\u001b[0m\n\u001b[1;32m   6078\u001b[0m         \u001b[0;32mtry\u001b[0m\u001b[0;34m:\u001b[0m\u001b[0;34m\u001b[0m\u001b[0;34m\u001b[0m\u001b[0m\n\u001b[0;32m-> 6079\u001b[0;31m             \u001b[0mrif_self\u001b[0m \u001b[0;34m=\u001b[0m \u001b[0msage\u001b[0m\u001b[0;34m.\u001b[0m\u001b[0mrings\u001b[0m\u001b[0;34m.\u001b[0m\u001b[0mall\u001b[0m\u001b[0;34m.\u001b[0m\u001b[0mRIF\u001b[0m\u001b[0;34m(\u001b[0m\u001b[0mself\u001b[0m\u001b[0;34m)\u001b[0m\u001b[0;34m\u001b[0m\u001b[0;34m\u001b[0m\u001b[0m\n\u001b[0m\u001b[1;32m   6080\u001b[0m         \u001b[0;32mexcept\u001b[0m \u001b[0mTypeError\u001b[0m\u001b[0;34m:\u001b[0m\u001b[0;34m\u001b[0m\u001b[0;34m\u001b[0m\u001b[0m\n",
      "\u001b[0;32m/Users/hastings/opt/anaconda3/envs/sage/lib/python3.7/site-packages/sage/rings/real_mpfi.pyx\u001b[0m in \u001b[0;36msage.rings.real_mpfi.RealIntervalField_class.__call__ (build/cythonized/sage/rings/real_mpfi.c:5993)\u001b[0;34m()\u001b[0m\n\u001b[1;32m    699\u001b[0m             \u001b[0;32mreturn\u001b[0m \u001b[0mself\u001b[0m\u001b[0;34m.\u001b[0m\u001b[0melement_class\u001b[0m\u001b[0;34m(\u001b[0m\u001b[0mself\u001b[0m\u001b[0;34m,\u001b[0m \u001b[0mx\u001b[0m\u001b[0;34m,\u001b[0m \u001b[0;34m**\u001b[0m\u001b[0mkwds\u001b[0m\u001b[0;34m)\u001b[0m\u001b[0;34m\u001b[0m\u001b[0;34m\u001b[0m\u001b[0m\n\u001b[0;32m--> 700\u001b[0;31m         \u001b[0;32mreturn\u001b[0m \u001b[0mParent\u001b[0m\u001b[0;34m.\u001b[0m\u001b[0m__call__\u001b[0m\u001b[0;34m(\u001b[0m\u001b[0mself\u001b[0m\u001b[0;34m,\u001b[0m \u001b[0mx\u001b[0m\u001b[0;34m)\u001b[0m\u001b[0;34m\u001b[0m\u001b[0;34m\u001b[0m\u001b[0m\n\u001b[0m\u001b[1;32m    701\u001b[0m \u001b[0;34m\u001b[0m\u001b[0m\n",
      "\u001b[0;32m/Users/hastings/opt/anaconda3/envs/sage/lib/python3.7/site-packages/sage/structure/parent.pyx\u001b[0m in \u001b[0;36msage.structure.parent.Parent.__call__ (build/cythonized/sage/structure/parent.c:9217)\u001b[0;34m()\u001b[0m\n\u001b[1;32m    899\u001b[0m             \u001b[0;32mif\u001b[0m \u001b[0mno_extra_args\u001b[0m\u001b[0;34m:\u001b[0m\u001b[0;34m\u001b[0m\u001b[0;34m\u001b[0m\u001b[0m\n\u001b[0;32m--> 900\u001b[0;31m                 \u001b[0;32mreturn\u001b[0m \u001b[0mmor\u001b[0m\u001b[0;34m.\u001b[0m\u001b[0m_call_\u001b[0m\u001b[0;34m(\u001b[0m\u001b[0mx\u001b[0m\u001b[0;34m)\u001b[0m\u001b[0;34m\u001b[0m\u001b[0;34m\u001b[0m\u001b[0m\n\u001b[0m\u001b[1;32m    901\u001b[0m             \u001b[0;32melse\u001b[0m\u001b[0;34m:\u001b[0m\u001b[0;34m\u001b[0m\u001b[0;34m\u001b[0m\u001b[0m\n",
      "\u001b[0;32m/Users/hastings/opt/anaconda3/envs/sage/lib/python3.7/site-packages/sage/structure/coerce_maps.pyx\u001b[0m in \u001b[0;36msage.structure.coerce_maps.NamedConvertMap._call_ (build/cythonized/sage/structure/coerce_maps.c:5948)\u001b[0;34m()\u001b[0m\n\u001b[1;32m    286\u001b[0m         \u001b[0mcdef\u001b[0m \u001b[0mMap\u001b[0m \u001b[0mm\u001b[0m\u001b[0;34m\u001b[0m\u001b[0;34m\u001b[0m\u001b[0m\n\u001b[0;32m--> 287\u001b[0;31m         \u001b[0mcdef\u001b[0m \u001b[0mElement\u001b[0m \u001b[0me\u001b[0m \u001b[0;34m=\u001b[0m \u001b[0mmethod\u001b[0m\u001b[0;34m(\u001b[0m\u001b[0mC\u001b[0m\u001b[0;34m)\u001b[0m\u001b[0;34m\u001b[0m\u001b[0;34m\u001b[0m\u001b[0m\n\u001b[0m\u001b[1;32m    288\u001b[0m         \u001b[0;32mif\u001b[0m \u001b[0me\u001b[0m \u001b[0;32mis\u001b[0m \u001b[0;32mNone\u001b[0m\u001b[0;34m:\u001b[0m\u001b[0;34m\u001b[0m\u001b[0;34m\u001b[0m\u001b[0m\n",
      "\u001b[0;32m/Users/hastings/opt/anaconda3/envs/sage/lib/python3.7/site-packages/sage/symbolic/expression.pyx\u001b[0m in \u001b[0;36msage.symbolic.expression.Expression._real_mpfi_ (build/cythonized/sage/symbolic/expression.cpp:10449)\u001b[0;34m()\u001b[0m\n\u001b[1;32m   1348\u001b[0m         \u001b[0;32mexcept\u001b[0m \u001b[0mTypeError\u001b[0m\u001b[0;34m:\u001b[0m\u001b[0;34m\u001b[0m\u001b[0;34m\u001b[0m\u001b[0m\n\u001b[0;32m-> 1349\u001b[0;31m             \u001b[0;32mraise\u001b[0m \u001b[0mTypeError\u001b[0m\u001b[0;34m(\u001b[0m\u001b[0;34m\"unable to simplify to a real interval approximation\"\u001b[0m\u001b[0;34m)\u001b[0m\u001b[0;34m\u001b[0m\u001b[0;34m\u001b[0m\u001b[0m\n\u001b[0m\u001b[1;32m   1350\u001b[0m \u001b[0;34m\u001b[0m\u001b[0m\n",
      "\u001b[0;31mTypeError\u001b[0m: unable to simplify to a real interval approximation",
      "\nDuring handling of the above exception, another exception occurred:\n",
      "\u001b[0;31mValueError\u001b[0m                                Traceback (most recent call last)",
      "\u001b[0;32m<ipython-input-25-49f7671b4dfd>\u001b[0m in \u001b[0;36m<module>\u001b[0;34m()\u001b[0m\n\u001b[0;32m----> 1\u001b[0;31m \u001b[0mplot\u001b[0m\u001b[0;34m(\u001b[0m\u001b[0mround\u001b[0m\u001b[0;34m(\u001b[0m\u001b[0mx\u001b[0m\u001b[0;34m)\u001b[0m\u001b[0;34m)\u001b[0m\u001b[0;34m\u001b[0m\u001b[0;34m\u001b[0m\u001b[0m\n\u001b[0m",
      "\u001b[0;32m/Users/hastings/opt/anaconda3/envs/sage/lib/python3.7/site-packages/sage/misc/functional.py\u001b[0m in \u001b[0;36mround\u001b[0;34m(x, ndigits)\u001b[0m\n\u001b[1;32m   1560\u001b[0m         \u001b[0;32melse\u001b[0m\u001b[0;34m:\u001b[0m\u001b[0;34m\u001b[0m\u001b[0;34m\u001b[0m\u001b[0m\n\u001b[1;32m   1561\u001b[0m             \u001b[0;32mtry\u001b[0m\u001b[0;34m:\u001b[0m\u001b[0;34m\u001b[0m\u001b[0;34m\u001b[0m\u001b[0m\n\u001b[0;32m-> 1562\u001b[0;31m                 \u001b[0;32mreturn\u001b[0m \u001b[0mx\u001b[0m\u001b[0;34m.\u001b[0m\u001b[0mround\u001b[0m\u001b[0;34m(\u001b[0m\u001b[0;34m)\u001b[0m\u001b[0;34m\u001b[0m\u001b[0;34m\u001b[0m\u001b[0m\n\u001b[0m\u001b[1;32m   1563\u001b[0m             \u001b[0;32mexcept\u001b[0m \u001b[0mAttributeError\u001b[0m\u001b[0;34m:\u001b[0m\u001b[0;34m\u001b[0m\u001b[0;34m\u001b[0m\u001b[0m\n\u001b[1;32m   1564\u001b[0m                 \u001b[0;32mreturn\u001b[0m \u001b[0mRealDoubleElement\u001b[0m\u001b[0;34m(\u001b[0m\u001b[0mbuiltins\u001b[0m\u001b[0;34m.\u001b[0m\u001b[0mround\u001b[0m\u001b[0;34m(\u001b[0m\u001b[0mx\u001b[0m\u001b[0;34m,\u001b[0m \u001b[0;36m0\u001b[0m\u001b[0;34m)\u001b[0m\u001b[0;34m)\u001b[0m\u001b[0;34m\u001b[0m\u001b[0;34m\u001b[0m\u001b[0m\n",
      "\u001b[0;32m/Users/hastings/opt/anaconda3/envs/sage/lib/python3.7/site-packages/sage/symbolic/expression.pyx\u001b[0m in \u001b[0;36msage.symbolic.expression.Expression.round (build/cythonized/sage/symbolic/expression.cpp:34978)\u001b[0;34m()\u001b[0m\n\u001b[1;32m   6079\u001b[0m             \u001b[0mrif_self\u001b[0m \u001b[0;34m=\u001b[0m \u001b[0msage\u001b[0m\u001b[0;34m.\u001b[0m\u001b[0mrings\u001b[0m\u001b[0;34m.\u001b[0m\u001b[0mall\u001b[0m\u001b[0;34m.\u001b[0m\u001b[0mRIF\u001b[0m\u001b[0;34m(\u001b[0m\u001b[0mself\u001b[0m\u001b[0;34m)\u001b[0m\u001b[0;34m\u001b[0m\u001b[0;34m\u001b[0m\u001b[0m\n\u001b[1;32m   6080\u001b[0m         \u001b[0;32mexcept\u001b[0m \u001b[0mTypeError\u001b[0m\u001b[0;34m:\u001b[0m\u001b[0;34m\u001b[0m\u001b[0;34m\u001b[0m\u001b[0m\n\u001b[0;32m-> 6081\u001b[0;31m             \u001b[0;32mraise\u001b[0m \u001b[0mValueError\u001b[0m\u001b[0;34m(\u001b[0m\u001b[0;34m\"could not convert %s to a real number\"\u001b[0m \u001b[0;34m%\u001b[0m \u001b[0mself\u001b[0m\u001b[0;34m)\u001b[0m\u001b[0;34m\u001b[0m\u001b[0;34m\u001b[0m\u001b[0m\n\u001b[0m\u001b[1;32m   6082\u001b[0m         \u001b[0mhalf\u001b[0m \u001b[0;34m=\u001b[0m \u001b[0;36m1\u001b[0m \u001b[0;34m/\u001b[0m \u001b[0msage\u001b[0m\u001b[0;34m.\u001b[0m\u001b[0mrings\u001b[0m\u001b[0;34m.\u001b[0m\u001b[0minteger\u001b[0m\u001b[0;34m.\u001b[0m\u001b[0mInteger\u001b[0m\u001b[0;34m(\u001b[0m\u001b[0;36m2\u001b[0m\u001b[0;34m)\u001b[0m\u001b[0;34m\u001b[0m\u001b[0;34m\u001b[0m\u001b[0m\n\u001b[1;32m   6083\u001b[0m         \u001b[0;32mif\u001b[0m \u001b[0mrif_self\u001b[0m \u001b[0;34m<\u001b[0m \u001b[0;36m0\u001b[0m \u001b[0;32mor\u001b[0m \u001b[0;34m(\u001b[0m\u001b[0mrif_self\u001b[0m\u001b[0;34m.\u001b[0m\u001b[0mcontains_zero\u001b[0m\u001b[0;34m(\u001b[0m\u001b[0;34m)\u001b[0m \u001b[0;32mand\u001b[0m \u001b[0mself\u001b[0m \u001b[0;34m<\u001b[0m \u001b[0;36m0\u001b[0m\u001b[0;34m)\u001b[0m\u001b[0;34m:\u001b[0m\u001b[0;34m\u001b[0m\u001b[0;34m\u001b[0m\u001b[0m\n",
      "\u001b[0;31mValueError\u001b[0m: could not convert x to a real number"
     ]
    }
   ],
   "source": [
    "plot(round(x))"
   ]
  },
  {
   "cell_type": "code",
   "execution_count": 30,
   "metadata": {},
   "outputs": [
    {
     "data": {
      "image/png": "[encoded data removed]",
      "text/plain": [
       "Graphics object consisting of 1 graphics primitive"
      ]
     },
     "execution_count": 30,
     "metadata": {},
     "output_type": "execute_result"
    }
   ],
   "source": [
    "plot(1 - cos(2 * pi * x))"
   ]
  },
  {
   "cell_type": "code",
   "execution_count": 18,
   "metadata": {},
   "outputs": [
    {
     "data": {
      "text/plain": [
       "3.14159265358979"
      ]
     },
     "execution_count": 18,
     "metadata": {},
     "output_type": "execute_result"
    }
   ],
   "source": [
    "pi.n()"
   ]
  },
  {
   "cell_type": "code",
   "execution_count": 95,
   "metadata": {},
   "outputs": [
    {
     "data": {
      "text/plain": [
       "18"
      ]
     },
     "execution_count": 95,
     "metadata": {},
     "output_type": "execute_result"
    }
   ],
   "source": [
    "len(Qs)"
   ]
  },
  {
   "cell_type": "code",
   "execution_count": 96,
   "metadata": {},
   "outputs": [
    {
     "data": {
      "text/plain": [
       "[e0 + 1, e1, e2, e3, e4 + 1, e5, e6, e7, e8 + 1]"
      ]
     },
     "execution_count": 96,
     "metadata": {},
     "output_type": "execute_result"
    }
   ],
   "source": [
    "Qs[:N*N]"
   ]
  },
  {
   "cell_type": "code",
   "execution_count": 185,
   "metadata": {},
   "outputs": [
    {
     "data": {
      "image/png": "[encoded data removed]",
      "text/plain": [
       "Graphics object consisting of 1 graphics primitive"
      ]
     },
     "execution_count": 185,
     "metadata": {},
     "output_type": "execute_result"
    }
   ],
   "source": [
    "plot(-(abs(x - .05) - x + .05) / 2)"
   ]
  },
  {
   "cell_type": "code",
   "execution_count": 285,
   "metadata": {},
   "outputs": [],
   "source": [
    "ff = fast_callable(loss,vars=e)"
   ]
  },
  {
   "cell_type": "code",
   "execution_count": 288,
   "metadata": {},
   "outputs": [],
   "source": [
    "for _ in range(10):\n",
    "    grad_numeric(En)"
   ]
  },
  {
   "cell_type": "code",
   "execution_count": 322,
   "metadata": {},
   "outputs": [],
   "source": [
    "ffgrad = [fast_callable(g, vars=e, domain=float) for g in grad]"
   ]
  },
  {
   "cell_type": "code",
   "execution_count": 323,
   "metadata": {},
   "outputs": [],
   "source": [
    "def fast_grad_numeric(En):\n",
    "    return [f(*En) for f in ffgrad]"
   ]
  },
  {
   "cell_type": "code",
   "execution_count": 324,
   "metadata": {},
   "outputs": [
    {
     "name": "stdout",
     "output_type": "stream",
     "text": [
      "CPU times: user 310 ms, sys: 4.48 ms, total: 315 ms\n",
      "Wall time: 313 ms\n"
     ]
    },
    {
     "data": {
      "text/plain": [
       "[-0.0007262968091609201,\n",
       " 0.008453195206409025,\n",
       " 0.004748118581865912,\n",
       " 0.01276315011086343,\n",
       " -0.0011914928594147778,\n",
       " 0.007133827849302832,\n",
       " -0.18902989049057883,\n",
       " 0.013157896145327863,\n",
       " 1.01166436353362,\n",
       " -0.1324517507430144,\n",
       " 0.020405380845431587,\n",
       " -0.2011559296108908,\n",
       " -0.0005616108479798987,\n",
       " 0.001681621656338117,\n",
       " -0.13823089772082453,\n",
       " 0.004259851629749789]"
      ]
     },
     "execution_count": 324,
     "metadata": {},
     "output_type": "execute_result"
    }
   ],
   "source": [
    "%%time\n",
    "fast_grad_numeric(En)"
   ]
  },
  {
   "cell_type": "code",
   "execution_count": 325,
   "metadata": {},
   "outputs": [
    {
     "name": "stdout",
     "output_type": "stream",
     "text": [
      "CPU times: user 526 ms, sys: 4.22 ms, total: 531 ms\n",
      "Wall time: 531 ms\n"
     ]
    },
    {
     "data": {
      "text/plain": [
       "[-0.000726296809161183,\n",
       " 0.00845319520640945,\n",
       " 0.00474811858186589,\n",
       " 0.0127631501108634,\n",
       " -0.00119149285941461,\n",
       " 0.00713382784930266,\n",
       " -0.189029890490579,\n",
       " 0.0131578961453280,\n",
       " 1.01166436353362,\n",
       " -0.132451750743014,\n",
       " 0.0204053808454315,\n",
       " -0.201155929610891,\n",
       " -0.000561610847979545,\n",
       " 0.00168162165633817,\n",
       " -0.138230897720825,\n",
       " 0.00425985162974968]"
      ]
     },
     "execution_count": 325,
     "metadata": {},
     "output_type": "execute_result"
    }
   ],
   "source": [
    "%%time\n",
    "grad_numeric(En)"
   ]
  },
  {
   "cell_type": "code",
   "execution_count": 314,
   "metadata": {},
   "outputs": [],
   "source": [
    "gg = ffgrad[0]"
   ]
  },
  {
   "cell_type": "code",
   "execution_count": 318,
   "metadata": {},
   "outputs": [
    {
     "data": {
      "text/plain": [
       "37498"
      ]
     },
     "execution_count": 318,
     "metadata": {},
     "output_type": "execute_result"
    }
   ],
   "source": [
    "len(gg.op_list())"
   ]
  },
  {
   "cell_type": "code",
   "execution_count": null,
   "metadata": {},
   "outputs": [],
   "source": [
    "str"
   ]
  }
 ],
 "metadata": {
  "kernelspec": {
   "display_name": "SageMath 9.1",
   "language": "sage",
   "name": "sagemath"
  },
  "language_info": {
   "codemirror_mode": {
    "name": "ipython",
    "version": 3
   },
   "file_extension": ".py",
   "mimetype": "text/x-python",
   "name": "python",
   "nbconvert_exporter": "python",
   "pygments_lexer": "ipython3",
   "version": "3.7.8"
  }
 },
 "nbformat": 4,
 "nbformat_minor": 2
}
